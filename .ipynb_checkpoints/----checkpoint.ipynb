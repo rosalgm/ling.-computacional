{
 "cells": [
  {
   "cell_type": "code",
   "execution_count": 77,
   "id": "cfdcc732",
   "metadata": {},
   "outputs": [],
   "source": [
    "tokens_codigos = [['V', 'NFIN'],\n",
    " ['V', 'NO1PI', 'PFV', 'FIN', 'IRR', 'LGSPEC2']]"
   ]
  },
  {
   "cell_type": "code",
   "execution_count": 78,
   "id": "ec9e5471",
   "metadata": {},
   "outputs": [],
   "source": [
    "triple_datos = [['aabintaantsi', 'aabintaantsi', 'V;NFIN'],\n",
    " ['aabintaantsi', 'aabintaje', 'V;NO1PI;PFV;FIN;IRR;LGSPEC2']]"
   ]
  },
  {
   "cell_type": "code",
   "execution_count": 79,
   "id": "8df405df",
   "metadata": {},
   "outputs": [],
   "source": [
    "### Definimos la lista vacía codigos_x_inflexiones que albergará \n",
    "### los lemas, inflexiones y el número de morfemas \n",
    "codigos_x_inflexiones = []"
   ]
  },
  {
   "cell_type": "code",
   "execution_count": 80,
   "id": "8e007031",
   "metadata": {},
   "outputs": [],
   "source": [
    "### PRIMERO: usamos un primer ciclo for para recorrer la lista triple datos\n",
    "for item in triple_datos:\n",
    "        ### SEGUNDO: usamos otro ciclo for para recorrer la lista tokens_codigos\n",
    "               for n in range(len(tokens_codigos)):\n",
    "                        A = item[0], item[1],len(tokens_codigos[n])\n",
    "                        codigos_x_inflexiones += [A]"
   ]
  },
  {
   "cell_type": "code",
   "execution_count": 81,
   "id": "57e426f6",
   "metadata": {},
   "outputs": [
    {
     "data": {
      "text/plain": [
       "[('aabintaantsi', 'aabintaantsi', 2),\n",
       " ('aabintaantsi', 'aabintaantsi', 6),\n",
       " ('aabintaantsi', 'aabintaje', 2),\n",
       " ('aabintaantsi', 'aabintaje', 6)]"
      ]
     },
     "execution_count": 81,
     "metadata": {},
     "output_type": "execute_result"
    }
   ],
   "source": [
    "codigos_x_inflexiones "
   ]
  },
  {
   "cell_type": "code",
   "execution_count": 82,
   "id": "24419112",
   "metadata": {},
   "outputs": [
    {
     "data": {
      "text/plain": [
       "4"
      ]
     },
     "execution_count": 82,
     "metadata": {},
     "output_type": "execute_result"
    }
   ],
   "source": [
    "len(codigos_x_inflexiones )"
   ]
  },
  {
   "cell_type": "code",
   "execution_count": null,
   "id": "d37dfc9d",
   "metadata": {},
   "outputs": [],
   "source": [
    "### PRIMERO: usamos un primer ciclo for para recorrer la lista triple datos\n",
    "for item in triple_datos:\n",
    "        ### usamos otro ciclo for para acceder a los índices de la sublista item\n",
    "           for i in range(len(item)):\n",
    "                ### SEGUNDO: usamos otro ciclo for para recorres la lista tokens_codigos\n",
    "                for numero_codigos in tokens_codigos:\n",
    "                    ### y otro para acceder a sus índices \n",
    "                    for n in range(len(tokens_codigos)):\n",
    "                        A = item[0], item[1],len(tokens_codigos[n])\n",
    "                        codigos_x_inflexiones += [A]"
   ]
  }
 ],
 "metadata": {
  "kernelspec": {
   "display_name": "Python 3",
   "language": "python",
   "name": "python3"
  },
  "language_info": {
   "codemirror_mode": {
    "name": "ipython",
    "version": 3
   },
   "file_extension": ".py",
   "mimetype": "text/x-python",
   "name": "python",
   "nbconvert_exporter": "python",
   "pygments_lexer": "ipython3",
   "version": "3.8.8"
  }
 },
 "nbformat": 4,
 "nbformat_minor": 5
}
